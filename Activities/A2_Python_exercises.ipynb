{
  "nbformat": 4,
  "nbformat_minor": 0,
  "metadata": {
    "colab": {
      "provenance": []
    },
    "kernelspec": {
      "name": "python3",
      "display_name": "Python 3"
    },
    "language_info": {
      "name": "python"
    }
  },
  "cells": [
    {
      "cell_type": "markdown",
      "source": [
        "Text Analysis Tool"
      ],
      "metadata": {
        "id": "_N2IzSW97ogj"
      }
    },
    {
      "cell_type": "code",
      "execution_count": 2,
      "metadata": {
        "id": "tFyJr0LD7dPm"
      },
      "outputs": [],
      "source": [
        "def count_words(text):\n",
        "    words = text.split()\n",
        "    return len(words)\n",
        "\n",
        "def count_sentences(text):\n",
        "    sentences = text.split(\".\")\n",
        "    return len(sentences)\n",
        "\n",
        "def count_paragraphs(text):\n",
        "    paragraphs = text.split(\"\\n\\n\")\n",
        "    return len(paragraphs)\n",
        "\n",
        "def calculate_average_word_length(text):\n",
        "    words = text.split()\n",
        "    total_length = sum(len(word) for word in words)\n",
        "    return total_length / len(words) if len(words) > 0 else 0\n",
        "\n",
        "def find_most_common_words(text, num_words=10):\n",
        "    words = text.split()\n",
        "    word_counts = {}\n",
        "\n",
        "    for word in words:\n",
        "        word_counts[word] = word_counts.get(word, 0) + 1\n",
        "\n",
        "    sorted_word_counts = sorted(word_counts.items(), key=lambda x: x[1], reverse=True)\n",
        "    return sorted_word_counts[:num_words]\n",
        "\n"
      ]
    },
    {
      "cell_type": "code",
      "source": [
        "text = input(\"Por favor, ingresa el texto que deseas analizar:\\n\")\n",
        "\n",
        "num_words = count_words(text)\n",
        "num_sentences = count_sentences(text)\n",
        "num_paragraphs = count_paragraphs(text)\n",
        "avg_word_length = calculate_average_word_length(text)\n",
        "common_words = find_most_common_words(text)\n",
        "\n",
        "print(f\"Number of words: {num_words}\")\n",
        "print(f\"Number of sentences: {num_sentences}\")\n",
        "print(f\"Number of paragraphs: {num_paragraphs}\")\n",
        "print(f\"Average word length: {avg_word_length:.2f}\")\n",
        "print(\"Most common words:\")\n",
        "for word, freq in common_words:\n",
        "  print(f\"{word}: {freq}\")\n"
      ],
      "metadata": {
        "colab": {
          "base_uri": "https://localhost:8080/"
        },
        "id": "IiNnfmA-74AZ",
        "outputId": "71fb85d8-6034-4ba0-ef1f-b6f9bd5b2d67"
      },
      "execution_count": 3,
      "outputs": [
        {
          "output_type": "stream",
          "name": "stdout",
          "text": [
            "Por favor, ingresa el texto que deseas analizar:\n",
            "Una historia épica de piratas, donde narra la historia de \"Monkey D. Luffy\" quien cuado tenia 7 años, comió accidentalmente una \"Akuma no mi\"(Futa del diablo) la cual le dio poderes de goma. Por otra parte \"Gol D. Roger\" conocido como \"El rey de los Piratas\" quien fuera ejecutado por la Marine, habló antes de morir, acerca de su famoso tesoro \"One Piece\" escondido en la \"Gran line\". Esta noticia desato la gran era de la piratas lanzando a incontables piratas a ese lugar, en busca de \"One Piece\" el tesoro perdido. Diez años después, Luffy inspirado en \"Gol D. Roger\" y un pirata de nombre Akagami no Shanks (Shanks el pelirrojo) se convierte en pirata deseando ser el próximo \"Rey de los Piratas\" y zarpar para conocer amigos y tener aventuras con ellos, teniendo como meta encontrar el \"One Piece\".\n",
            "Number of words: 141\n",
            "Number of sentences: 8\n",
            "Number of paragraphs: 1\n",
            "Average word length: 4.71\n",
            "Most common words:\n",
            "de: 10\n",
            "la: 6\n",
            "en: 4\n",
            "el: 4\n",
            "D.: 3\n",
            "\"One: 3\n",
            "y: 3\n",
            "historia: 2\n",
            "quien: 2\n",
            "no: 2\n"
          ]
        }
      ]
    },
    {
      "cell_type": "markdown",
      "source": [
        "The Hangman Game"
      ],
      "metadata": {
        "id": "BMY7uTkt8IzX"
      }
    },
    {
      "cell_type": "code",
      "source": [
        "import random\n",
        "\n",
        "words = [\"apple\", \"banana\", \"cherry\", \"grape\", \"kiwi\", \"lemon\", \"mango\", \"orange\", \"raspberry\", \"strawberry\", \"tangerine\", \"watermelon\", \"purple\"]\n",
        "\n",
        "def choose_word():\n",
        "    return random.choice(words)\n",
        "\n",
        "def hidden_word(word, guessed_letters):\n",
        "    hidden_word = \"\"\n",
        "    for letter in word:\n",
        "        if letter in guessed_letters:\n",
        "            hidden_word += letter\n",
        "        else:\n",
        "            hidden_word += \"_\"\n",
        "    return hidden_word\n",
        "\n",
        "def hangman():\n",
        "    word = choose_word()\n",
        "    max_attempts = 6\n",
        "    guessed_letters = []\n",
        "    attempts = 0\n",
        "\n",
        "    while True:\n",
        "        print(hidden_word(word, guessed_letters))\n",
        "        guess = input(\"Guess a letter: \").lower()\n",
        "\n",
        "        if guess in guessed_letters:\n",
        "            print(\"You already guessed that letter.\")\n",
        "            continue\n",
        "\n",
        "        guessed_letters.append(guess)\n",
        "\n",
        "        if guess in word:\n",
        "            print(\"Nice\")\n",
        "        else:\n",
        "            print(\"No no, try again\")\n",
        "            attempts += 1\n",
        "\n",
        "        if hidden_word(word, guessed_letters) == word:\n",
        "            print(\"Yep. That was the word: \"+ word)\n",
        "            break\n",
        "\n",
        "        if attempts >= max_attempts:\n",
        "            print(\"Sorry, you losed. The word was: \"+ word)\n",
        "            break\n",
        "\n"
      ],
      "metadata": {
        "id": "L7vXedFn8NMU"
      },
      "execution_count": 4,
      "outputs": []
    },
    {
      "cell_type": "code",
      "source": [
        "hangman()"
      ],
      "metadata": {
        "colab": {
          "base_uri": "https://localhost:8080/"
        },
        "id": "BBx4aYsO8WR2",
        "outputId": "d3738605-5d1b-4dd2-8706-29aa493becc9"
      },
      "execution_count": 5,
      "outputs": [
        {
          "output_type": "stream",
          "name": "stdout",
          "text": [
            "_____\n",
            "Guess a letter: a\n",
            "Nice\n",
            "a____\n",
            "Guess a letter: b\n",
            "No no, try again\n",
            "a____\n",
            "Guess a letter: c\n",
            "No no, try again\n",
            "a____\n",
            "Guess a letter: d\n",
            "No no, try again\n",
            "a____\n",
            "Guess a letter: e\n",
            "Nice\n",
            "a___e\n",
            "Guess a letter: f\n",
            "No no, try again\n",
            "a___e\n",
            "Guess a letter: g\n",
            "No no, try again\n",
            "a___e\n",
            "Guess a letter: h\n",
            "No no, try again\n",
            "Sorry, you losed. The word was: apple\n"
          ]
        }
      ]
    },
    {
      "cell_type": "markdown",
      "source": [
        "The Number Guessing Game"
      ],
      "metadata": {
        "id": "1euhfb1i8emf"
      }
    },
    {
      "cell_type": "code",
      "source": [
        "import random\n",
        "\n",
        "target = random.randint(1, 100)\n",
        "\n",
        "print(\"Guess the number I´m thinking :3\")\n",
        "print(target)"
      ],
      "metadata": {
        "colab": {
          "base_uri": "https://localhost:8080/"
        },
        "id": "4nJeUiky8jZj",
        "outputId": "e960bb8d-a0b6-47f2-d466-2d9af7a1250b"
      },
      "execution_count": 6,
      "outputs": [
        {
          "output_type": "stream",
          "name": "stdout",
          "text": [
            "Guess the number I´m thinking :3\n",
            "45\n"
          ]
        }
      ]
    },
    {
      "cell_type": "code",
      "source": [
        "while True:\n",
        "  guess = int(input(\"Enter your guess: \"))\n",
        "  if guess == target:\n",
        "    print(f\"Congratulations! The number was: {target} \")\n",
        "    break\n",
        "  elif guess < target:\n",
        "    print(\"The number is higher. Try again.\")\n",
        "  else:\n",
        "    print(\"The number is lower. Try again.\")"
      ],
      "metadata": {
        "colab": {
          "base_uri": "https://localhost:8080/"
        },
        "id": "VaepKFry8qZS",
        "outputId": "d12df221-b8c6-45bd-f634-c56b188b0962"
      },
      "execution_count": 7,
      "outputs": [
        {
          "output_type": "stream",
          "name": "stdout",
          "text": [
            "Enter your guess: 12\n",
            "The number is higher. Try again.\n",
            "Enter your guess: 60\n",
            "The number is lower. Try again.\n",
            "Enter your guess: 50\n",
            "The number is lower. Try again.\n",
            "Enter your guess: 40\n",
            "The number is higher. Try again.\n",
            "Enter your guess: 45\n",
            "Congratulations! The number was: 45 \n"
          ]
        }
      ]
    }
  ]
}